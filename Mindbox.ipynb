{
 "cells": [
  {
   "cell_type": "code",
   "execution_count": 3,
   "id": "78a5a508-2d30-461e-a66f-2da627e8d1a4",
   "metadata": {
    "scrolled": true
   },
   "outputs": [
    {
     "name": "stdout",
     "output_type": "stream",
     "text": [
      "Пары 'Имя продукта – Имя категории':\n",
      "+------------+-------------+\n",
      "|product_name|category_name|\n",
      "+------------+-------------+\n",
      "|   Product C|   Category X|\n",
      "|   Product A|   Category X|\n",
      "|   Product A|   Category Y|\n",
      "|   Product B|   Category Z|\n",
      "+------------+-------------+\n",
      "\n",
      "Продукты без категорий:\n",
      "+------------+\n",
      "|product_name|\n",
      "+------------+\n",
      "|   Product D|\n",
      "+------------+\n",
      "\n"
     ]
    }
   ],
   "source": [
    "from pyspark.sql import SparkSession\n",
    "\n",
    "spark = SparkSession.builder.appName(\"ProductsAndCategories\").getOrCreate()\n",
    "\n",
    "products_data = [\n",
    "    (1, \"Product A\"),\n",
    "    (2, \"Product B\"),\n",
    "    (3, \"Product C\"),\n",
    "    (4, \"Product D\")\n",
    "]\n",
    "\n",
    "categories_data = [\n",
    "    (1, \"Category X\"),\n",
    "    (2, \"Category Y\"),\n",
    "    (3, \"Category Z\")\n",
    "]\n",
    "\n",
    "product_category_data = [\n",
    "    (1, 1),\n",
    "    (1, 2),\n",
    "    (2, 3),\n",
    "    (3, 1)\n",
    "]\n",
    "\n",
    "products_df = spark.createDataFrame(products_data, [\"product_id\", \"product_name\"])\n",
    "\n",
    "categories_df = spark.createDataFrame(categories_data, [\"category_id\", \"category_name\"])\n",
    "\n",
    "product_category_df = spark.createDataFrame(product_category_data, [\"product_id\", \"category_id\"])\n",
    "\n",
    "def get_products_and_categories(products_df, categories_df, product_category_df):\n",
    "    product_category_joined = product_category_df \\\n",
    "        .join(products_df, \"product_id\") \\\n",
    "        .join(categories_df, \"category_id\") \\\n",
    "        .select(products_df.product_name, categories_df.category_name)\n",
    "    \n",
    "    products_with_categories = product_category_df.select(\"product_id\").distinct()\n",
    "    products_without_categories = products_df.join(products_with_categories, \"product_id\", \"left_anti\") \\\n",
    "        .select(products_df.product_name)\n",
    "    \n",
    "    return product_category_joined, products_without_categories\n",
    "\n",
    "product_category_pairs, products_without_categories = get_products_and_categories(products_df, categories_df, product_category_df)\n",
    "\n",
    "print(\"Пары 'Имя продукта – Имя категории':\")\n",
    "product_category_pairs.show()\n",
    "\n",
    "print(\"Продукты без категорий:\")\n",
    "products_without_categories.show()\n",
    "\n",
    "spark.stop()"
   ]
  }
 ],
 "metadata": {
  "kernelspec": {
   "display_name": "Python 3 (ipykernel)",
   "language": "python",
   "name": "python3"
  },
  "language_info": {
   "codemirror_mode": {
    "name": "ipython",
    "version": 3
   },
   "file_extension": ".py",
   "mimetype": "text/x-python",
   "name": "python",
   "nbconvert_exporter": "python",
   "pygments_lexer": "ipython3",
   "version": "3.9.10"
  }
 },
 "nbformat": 4,
 "nbformat_minor": 5
}
